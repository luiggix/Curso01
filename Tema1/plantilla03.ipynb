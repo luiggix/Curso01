{
 "cells": [
  {
   "cell_type": "markdown",
   "id": "96b6f51e-6db0-4433-a259-3e8584d638d0",
   "metadata": {},
   "source": [
    "# Plantilla: verificación de respuestas"
   ]
  },
  {
   "cell_type": "markdown",
   "id": "631103ec-189f-42f3-add4-1a13d9912bce",
   "metadata": {},
   "source": [
    "## Importamos bibliotecas"
   ]
  },
  {
   "cell_type": "code",
   "execution_count": null,
   "id": "8e0dca5a-e378-426c-b756-cb6df49d35c4",
   "metadata": {
    "tags": []
   },
   "outputs": [],
   "source": [
    "import numpy as np\n",
    "import matplotlib.pyplot as plt\n",
    "import sympy as sy\n",
    "\n",
    "import macti.visual as mvis\n",
    "from macti.evaluation import Quizz\n",
    "quizz = Quizz('1', 'Modulo_I', 'Tema1')"
   ]
  },
  {
   "cell_type": "markdown",
   "id": "40a7068c-e3be-487b-aa00-6bf1861e8d6c",
   "metadata": {},
   "source": [
    "## Creamos datos"
   ]
  },
  {
   "cell_type": "code",
   "execution_count": null,
   "id": "0710eae0-1d4c-456a-9634-dc1d42469ba2",
   "metadata": {
    "tags": []
   },
   "outputs": [],
   "source": [
    "t = np.linspace(-2 * np.pi, 2 * np.pi, 360)"
   ]
  },
  {
   "cell_type": "markdown",
   "id": "ba865ee8-b6dc-409c-be00-c4f51d203e33",
   "metadata": {},
   "source": [
    "---\n",
    "### **<font color=\"DodgerBlue\">Ejercicio 1. Calcular el $\\sin(t)$.</font>**\n",
    "\n",
    "<font color=\"DarkBlue\">Escriba un código para calcular la función $f(t) = \\sin(t)$ para $t\\in [-2\\pi, 2\\pi]$, usando funciones de la biblioteca `numpy`.</font>\n",
    "\n",
    "---"
   ]
  },
  {
   "cell_type": "code",
   "execution_count": null,
   "id": "7a149ddb-26bb-4461-a2b6-b8e58c7d8417",
   "metadata": {
    "tags": []
   },
   "outputs": [],
   "source": [
    "### BEGIN SOLUTION\n",
    "f = np.sin(t)\n",
    "### END SOLUTION"
   ]
  },
  {
   "cell_type": "code",
   "execution_count": null,
   "id": "fa233433-341d-4aa1-96f4-290fbeafc555",
   "metadata": {
    "tags": []
   },
   "outputs": [],
   "source": [
    "quizz.eval_numeric('1', f)"
   ]
  },
  {
   "cell_type": "markdown",
   "id": "07528a7d-9390-4510-ba88-6504ee171a48",
   "metadata": {},
   "source": [
    "## Graficamos datos"
   ]
  },
  {
   "cell_type": "code",
   "execution_count": null,
   "id": "2162bbd6-9564-41dd-b084-97e3ca7b6ea0",
   "metadata": {
    "tags": []
   },
   "outputs": [],
   "source": [
    "v = mvis.Plotter(1,1)\n",
    "v.plot(1,t,f)\n",
    "v.set_coordsys(1, xlabel='$t$', ylabel='$f(t)$', \n",
    "               xlabelsize=10, ylabelsize=10, trig=True)\n",
    "\n",
    "plt.show()"
   ]
  },
  {
   "cell_type": "markdown",
   "id": "d2ea69d8-7284-4e18-bb86-79c1230448ad",
   "metadata": {},
   "source": [
    "## Cálculo simbólico"
   ]
  },
  {
   "cell_type": "markdown",
   "id": "eb1b73f6-1c34-4582-b416-0523b7c5ff47",
   "metadata": {},
   "source": [
    "---\n",
    "### **<font color=\"DodgerBlue\">Ejercicio 2. Derivada de una función.</font>**\n",
    "\n",
    "<font color=\"DarkBlue\">Calcule la derivada de la función $f(x) = x^2 \\sin(x)$. Escriba su respuesta en formato `sympy`.</font>\n",
    "\n",
    "---"
   ]
  },
  {
   "cell_type": "code",
   "execution_count": null,
   "id": "836f0df5-6053-4423-b437-d2bce38952a4",
   "metadata": {
    "tags": []
   },
   "outputs": [],
   "source": [
    "x = sy.Symbol('x')"
   ]
  },
  {
   "cell_type": "code",
   "execution_count": null,
   "id": "cff300e2-7d9d-4350-9e20-513dac236fd7",
   "metadata": {
    "tags": []
   },
   "outputs": [],
   "source": [
    "### BEGIN SOLUTION\n",
    "resultado = 2*x * sy.sin(x) + x*x * sy.cos(x)\n",
    "### END SOLUTION\n",
    "\n",
    "display(resultado)"
   ]
  },
  {
   "cell_type": "code",
   "execution_count": null,
   "id": "0262a4b7-13e2-4e4e-ba15-6a54886b6edb",
   "metadata": {
    "tags": []
   },
   "outputs": [],
   "source": [
    "quizz.eval_expression('2', resultado)"
   ]
  },
  {
   "cell_type": "markdown",
   "id": "039a74bb-a5e6-4e93-9fdf-fa08f3c0a0de",
   "metadata": {},
   "source": [
    "---\n",
    "### **<font color=\"DodgerBlue\">Ejercicio 3. ¿Qué fórmula representa la segunda Ley de Newton?.</font>**\n",
    "\n",
    "A. <font color=\"DarkBlue\">$F = m a$.</font> <br>\n",
    "B. <font color=\"DarkBlue\">$E = m c^2$.</font> <br>\n",
    "C. <font color=\"DarkBlue\">$A = \\pi * r^2$.</font> <br>\n",
    "\n",
    "\n",
    "---"
   ]
  },
  {
   "cell_type": "code",
   "execution_count": null,
   "id": "7ffac335-ed1c-4a51-8eea-80f0d4e30e19",
   "metadata": {
    "tags": []
   },
   "outputs": [],
   "source": [
    "quizz.eval_option('3','A')"
   ]
  },
  {
   "cell_type": "code",
   "execution_count": null,
   "id": "fbfdcb56-4cbc-404e-817e-4da09cbba126",
   "metadata": {},
   "outputs": [],
   "source": []
  }
 ],
 "metadata": {
  "kernelspec": {
   "display_name": "Python 3 (ipykernel)",
   "language": "python",
   "name": "python3"
  },
  "language_info": {
   "codemirror_mode": {
    "name": "ipython",
    "version": 3
   },
   "file_extension": ".py",
   "mimetype": "text/x-python",
   "name": "python",
   "nbconvert_exporter": "python",
   "pygments_lexer": "ipython3",
   "version": "3.11.2"
  }
 },
 "nbformat": 4,
 "nbformat_minor": 5
}
